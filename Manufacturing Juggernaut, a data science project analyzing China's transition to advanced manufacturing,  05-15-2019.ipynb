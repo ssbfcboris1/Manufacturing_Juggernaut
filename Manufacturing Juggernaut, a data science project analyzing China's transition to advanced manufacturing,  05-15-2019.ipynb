{
 "cells": [
  {
   "cell_type": "markdown",
   "metadata": {},
   "source": [
    "## Manufacturing Juggernaut, a data science project analyzing China's transition to advanced manufacturing, and its impact on U.S.-China trade relations. 05/15/2019\n"
   ]
  },
  {
   "cell_type": "markdown",
   "metadata": {},
   "source": [
    "### For background information, please check out: https://github.com/ssbfcboris1/Manufacturing_Juggernaut"
   ]
  },
  {
   "cell_type": "markdown",
   "metadata": {},
   "source": [
    "### The following are a few data-visualization graphs from my initial research:"
   ]
  },
  {
   "cell_type": "code",
   "execution_count": 3,
   "metadata": {},
   "outputs": [],
   "source": [
    "import numpy as ny\n",
    "import pandas as pd\n",
    "import matplotlib as mpl\n",
    "import matplotlib.pyplot as plt\n",
    "import datetime\n",
    "import random\n",
    "%matplotlib inline"
   ]
  },
  {
   "cell_type": "code",
   "execution_count": 42,
   "metadata": {},
   "outputs": [],
   "source": [
    "wb_4_mfg = pd.read_csv('D:\\\\Boris\\\\Manufacturing Juggernaut\\\\World Bank, total Manufacturing, value added, Big 4 countries.csv')"
   ]
  },
  {
   "cell_type": "code",
   "execution_count": 44,
   "metadata": {},
   "outputs": [],
   "source": [
    "wb_4_mfg.fillna(0, inplace=True)\n",
    "wb_4_mfg = wb_4_mfg.transpose()"
   ]
  },
  {
   "cell_type": "code",
   "execution_count": 45,
   "metadata": {
    "collapsed": true
   },
   "outputs": [
    {
     "data": {
      "text/html": [
       "<div>\n",
       "<style scoped>\n",
       "    .dataframe tbody tr th:only-of-type {\n",
       "        vertical-align: middle;\n",
       "    }\n",
       "\n",
       "    .dataframe tbody tr th {\n",
       "        vertical-align: top;\n",
       "    }\n",
       "\n",
       "    .dataframe thead th {\n",
       "        text-align: right;\n",
       "    }\n",
       "</style>\n",
       "<table border=\"1\" class=\"dataframe\">\n",
       "  <thead>\n",
       "    <tr style=\"text-align: right;\">\n",
       "      <th></th>\n",
       "      <th>0</th>\n",
       "      <th>1</th>\n",
       "      <th>2</th>\n",
       "      <th>3</th>\n",
       "    </tr>\n",
       "  </thead>\n",
       "  <tbody>\n",
       "    <tr>\n",
       "      <th>Country Code</th>\n",
       "      <td>CHN</td>\n",
       "      <td>DEU</td>\n",
       "      <td>JPN</td>\n",
       "      <td>USA</td>\n",
       "    </tr>\n",
       "    <tr>\n",
       "      <th>2000</th>\n",
       "      <td>0</td>\n",
       "      <td>4.04199e+11</td>\n",
       "      <td>1.10254e+12</td>\n",
       "      <td>1.54368e+12</td>\n",
       "    </tr>\n",
       "    <tr>\n",
       "      <th>2001</th>\n",
       "      <td>0</td>\n",
       "      <td>3.99993e+11</td>\n",
       "      <td>9.14666e+11</td>\n",
       "      <td>1.46647e+12</td>\n",
       "    </tr>\n",
       "    <tr>\n",
       "      <th>2002</th>\n",
       "      <td>0</td>\n",
       "      <td>4.15358e+11</td>\n",
       "      <td>8.59389e+11</td>\n",
       "      <td>1.46026e+12</td>\n",
       "    </tr>\n",
       "    <tr>\n",
       "      <th>2003</th>\n",
       "      <td>0</td>\n",
       "      <td>5.02691e+11</td>\n",
       "      <td>9.38495e+11</td>\n",
       "      <td>1.51778e+12</td>\n",
       "    </tr>\n",
       "  </tbody>\n",
       "</table>\n",
       "</div>"
      ],
      "text/plain": [
       "                0            1            2            3\n",
       "Country Code  CHN          DEU          JPN          USA\n",
       "2000            0  4.04199e+11  1.10254e+12  1.54368e+12\n",
       "2001            0  3.99993e+11  9.14666e+11  1.46647e+12\n",
       "2002            0  4.15358e+11  8.59389e+11  1.46026e+12\n",
       "2003            0  5.02691e+11  9.38495e+11  1.51778e+12"
      ]
     },
     "execution_count": 45,
     "metadata": {},
     "output_type": "execute_result"
    }
   ],
   "source": [
    "wb_4_mfg.head()"
   ]
  },
  {
   "cell_type": "code",
   "execution_count": 46,
   "metadata": {},
   "outputs": [
    {
     "data": {
      "text/html": [
       "<div>\n",
       "<style scoped>\n",
       "    .dataframe tbody tr th:only-of-type {\n",
       "        vertical-align: middle;\n",
       "    }\n",
       "\n",
       "    .dataframe tbody tr th {\n",
       "        vertical-align: top;\n",
       "    }\n",
       "\n",
       "    .dataframe thead th {\n",
       "        text-align: right;\n",
       "    }\n",
       "</style>\n",
       "<table border=\"1\" class=\"dataframe\">\n",
       "  <thead>\n",
       "    <tr style=\"text-align: right;\">\n",
       "      <th></th>\n",
       "      <th>CHN</th>\n",
       "      <th>DEU</th>\n",
       "      <th>JPN</th>\n",
       "      <th>USA</th>\n",
       "    </tr>\n",
       "  </thead>\n",
       "  <tbody>\n",
       "    <tr>\n",
       "      <th>2000</th>\n",
       "      <td>0</td>\n",
       "      <td>4.04199e+11</td>\n",
       "      <td>1.10254e+12</td>\n",
       "      <td>1.54368e+12</td>\n",
       "    </tr>\n",
       "    <tr>\n",
       "      <th>2001</th>\n",
       "      <td>0</td>\n",
       "      <td>3.99993e+11</td>\n",
       "      <td>9.14666e+11</td>\n",
       "      <td>1.46647e+12</td>\n",
       "    </tr>\n",
       "    <tr>\n",
       "      <th>2002</th>\n",
       "      <td>0</td>\n",
       "      <td>4.15358e+11</td>\n",
       "      <td>8.59389e+11</td>\n",
       "      <td>1.46026e+12</td>\n",
       "    </tr>\n",
       "    <tr>\n",
       "      <th>2003</th>\n",
       "      <td>0</td>\n",
       "      <td>5.02691e+11</td>\n",
       "      <td>9.38495e+11</td>\n",
       "      <td>1.51778e+12</td>\n",
       "    </tr>\n",
       "    <tr>\n",
       "      <th>2004</th>\n",
       "      <td>6.25224e+11</td>\n",
       "      <td>5.71733e+11</td>\n",
       "      <td>1.02719e+12</td>\n",
       "      <td>1.6057e+12</td>\n",
       "    </tr>\n",
       "  </tbody>\n",
       "</table>\n",
       "</div>"
      ],
      "text/plain": [
       "              CHN          DEU          JPN          USA\n",
       "2000            0  4.04199e+11  1.10254e+12  1.54368e+12\n",
       "2001            0  3.99993e+11  9.14666e+11  1.46647e+12\n",
       "2002            0  4.15358e+11  8.59389e+11  1.46026e+12\n",
       "2003            0  5.02691e+11  9.38495e+11  1.51778e+12\n",
       "2004  6.25224e+11  5.71733e+11  1.02719e+12   1.6057e+12"
      ]
     },
     "execution_count": 46,
     "metadata": {},
     "output_type": "execute_result"
    }
   ],
   "source": [
    "wb_4_mfg.columns = ['CHN','DEU','JPN','USA']\n",
    "wb_4_mfg.drop(index='Country Code', inplace=True)\n",
    "wb_4_mfg.head()"
   ]
  },
  {
   "cell_type": "markdown",
   "metadata": {},
   "source": [
    "## 1. The World Bank 2000-2012 data on value-added manufacturing output by four leading industrialized countries: Germany, Japan, China, the U.S.\n",
    "\n",
    "https://data.worldbank.org/indicator/NV.IND.MANF.CD?end=2012&locations=CN-DE-JP-US&name_desc=true&start=2000"
   ]
  },
  {
   "cell_type": "code",
   "execution_count": 47,
   "metadata": {},
   "outputs": [
    {
     "data": {
      "text/plain": [
       "<matplotlib.axes._subplots.AxesSubplot at 0xa212a58>"
      ]
     },
     "execution_count": 47,
     "metadata": {},
     "output_type": "execute_result"
    },
    {
     "data": {
      "image/png": "[encoded data removed]",
      "text/plain": [
       "<Figure size 432x288 with 1 Axes>"
      ]
     },
     "metadata": {},
     "output_type": "display_data"
    }
   ],
   "source": [
    "wb_4_mfg.plot.line()"
   ]
  },
  {
   "cell_type": "markdown",
   "metadata": {},
   "source": [
    "### Notes: In 2004, China's total manufacturing output surpassed that of Germany; before 2007, it edged out Japan as the second-largest manufacturing country.  Not long after the 2008 financial crisis, China overtook the U.S. as the world's largest producer of physical goods. "
   ]
  },
  {
   "cell_type": "code",
   "execution_count": 48,
   "metadata": {
    "collapsed": true
   },
   "outputs": [
    {
     "ename": "ZeroDivisionError",
     "evalue": "division by zero",
     "output_type": "error",
     "traceback": [
      "\u001b[1;31m---------------------------------------------------------------------------\u001b[0m",
      "\u001b[1;31mZeroDivisionError\u001b[0m                         Traceback (most recent call last)",
      "\u001b[1;32m<ipython-input-48-701b615f4d9e>\u001b[0m in \u001b[0;36m<module>\u001b[1;34m()\u001b[0m\n\u001b[0;32m      1\u001b[0m \u001b[0mwb_4_mfg\u001b[0m\u001b[1;33m.\u001b[0m\u001b[0mcorr\u001b[0m\u001b[1;33m(\u001b[0m\u001b[1;33m)\u001b[0m\u001b[1;33m\u001b[0m\u001b[0m\n\u001b[0;32m      2\u001b[0m \u001b[1;33m\u001b[0m\u001b[0m\n\u001b[1;32m----> 3\u001b[1;33m \u001b[0mplt\u001b[0m\u001b[1;33m.\u001b[0m\u001b[0mmatshow\u001b[0m\u001b[1;33m(\u001b[0m\u001b[0mwb_4_mfg\u001b[0m\u001b[1;33m.\u001b[0m\u001b[0mcorr\u001b[0m\u001b[1;33m(\u001b[0m\u001b[1;33m)\u001b[0m\u001b[1;33m)\u001b[0m\u001b[1;33m\u001b[0m\u001b[0m\n\u001b[0m\u001b[0;32m      4\u001b[0m \u001b[0mplt\u001b[0m\u001b[1;33m.\u001b[0m\u001b[0mxticks\u001b[0m\u001b[1;33m(\u001b[0m\u001b[0mrange\u001b[0m\u001b[1;33m(\u001b[0m\u001b[0mlen\u001b[0m\u001b[1;33m(\u001b[0m\u001b[0mwb_4_mfg\u001b[0m\u001b[1;33m.\u001b[0m\u001b[0mcolumns\u001b[0m\u001b[1;33m)\u001b[0m\u001b[1;33m)\u001b[0m\u001b[1;33m,\u001b[0m \u001b[0mwb_4_mfg\u001b[0m\u001b[1;33m.\u001b[0m\u001b[0mcolumns\u001b[0m\u001b[1;33m)\u001b[0m\u001b[1;33m\u001b[0m\u001b[0m\n\u001b[0;32m      5\u001b[0m \u001b[0mplt\u001b[0m\u001b[1;33m.\u001b[0m\u001b[0myticks\u001b[0m\u001b[1;33m(\u001b[0m\u001b[0mrange\u001b[0m\u001b[1;33m(\u001b[0m\u001b[0mlen\u001b[0m\u001b[1;33m(\u001b[0m\u001b[0mwb_4_mfg\u001b[0m\u001b[1;33m.\u001b[0m\u001b[0mcolumns\u001b[0m\u001b[1;33m)\u001b[0m\u001b[1;33m)\u001b[0m\u001b[1;33m,\u001b[0m \u001b[0mwb_4_mfg\u001b[0m\u001b[1;33m.\u001b[0m\u001b[0mcolumns\u001b[0m\u001b[1;33m)\u001b[0m\u001b[1;33m\u001b[0m\u001b[0m\n",
      "\u001b[1;32m~\\Anaconda3\\lib\\site-packages\\matplotlib\\pyplot.py\u001b[0m in \u001b[0;36mmatshow\u001b[1;34m(A, fignum, **kw)\u001b[0m\n\u001b[0;32m   2419\u001b[0m     \u001b[1;32melse\u001b[0m\u001b[1;33m:\u001b[0m\u001b[1;33m\u001b[0m\u001b[0m\n\u001b[0;32m   2420\u001b[0m         \u001b[1;31m# Extract actual aspect ratio of array and make appropriately sized figure\u001b[0m\u001b[1;33m\u001b[0m\u001b[1;33m\u001b[0m\u001b[0m\n\u001b[1;32m-> 2421\u001b[1;33m         \u001b[0mfig\u001b[0m \u001b[1;33m=\u001b[0m \u001b[0mfigure\u001b[0m\u001b[1;33m(\u001b[0m\u001b[0mfignum\u001b[0m\u001b[1;33m,\u001b[0m \u001b[0mfigsize\u001b[0m\u001b[1;33m=\u001b[0m\u001b[0mfigaspect\u001b[0m\u001b[1;33m(\u001b[0m\u001b[0mA\u001b[0m\u001b[1;33m)\u001b[0m\u001b[1;33m)\u001b[0m\u001b[1;33m\u001b[0m\u001b[0m\n\u001b[0m\u001b[0;32m   2422\u001b[0m         \u001b[0max\u001b[0m  \u001b[1;33m=\u001b[0m \u001b[0mfig\u001b[0m\u001b[1;33m.\u001b[0m\u001b[0madd_axes\u001b[0m\u001b[1;33m(\u001b[0m\u001b[1;33m[\u001b[0m\u001b[1;36m0.15\u001b[0m\u001b[1;33m,\u001b[0m \u001b[1;36m0.09\u001b[0m\u001b[1;33m,\u001b[0m \u001b[1;36m0.775\u001b[0m\u001b[1;33m,\u001b[0m \u001b[1;36m0.775\u001b[0m\u001b[1;33m]\u001b[0m\u001b[1;33m)\u001b[0m\u001b[1;33m\u001b[0m\u001b[0m\n\u001b[0;32m   2423\u001b[0m \u001b[1;33m\u001b[0m\u001b[0m\n",
      "\u001b[1;32m~\\Anaconda3\\lib\\site-packages\\matplotlib\\figure.py\u001b[0m in \u001b[0;36mfigaspect\u001b[1;34m(arg)\u001b[0m\n\u001b[0;32m   2474\u001b[0m     \u001b[1;32mif\u001b[0m \u001b[0misarray\u001b[0m\u001b[1;33m:\u001b[0m\u001b[1;33m\u001b[0m\u001b[0m\n\u001b[0;32m   2475\u001b[0m         \u001b[0mnr\u001b[0m\u001b[1;33m,\u001b[0m \u001b[0mnc\u001b[0m \u001b[1;33m=\u001b[0m \u001b[0marg\u001b[0m\u001b[1;33m.\u001b[0m\u001b[0mshape\u001b[0m\u001b[1;33m[\u001b[0m\u001b[1;33m:\u001b[0m\u001b[1;36m2\u001b[0m\u001b[1;33m]\u001b[0m\u001b[1;33m\u001b[0m\u001b[0m\n\u001b[1;32m-> 2476\u001b[1;33m         \u001b[0marr_ratio\u001b[0m \u001b[1;33m=\u001b[0m \u001b[0mnr\u001b[0m \u001b[1;33m/\u001b[0m \u001b[0mnc\u001b[0m\u001b[1;33m\u001b[0m\u001b[0m\n\u001b[0m\u001b[0;32m   2477\u001b[0m     \u001b[1;32melse\u001b[0m\u001b[1;33m:\u001b[0m\u001b[1;33m\u001b[0m\u001b[0m\n\u001b[0;32m   2478\u001b[0m         \u001b[0marr_ratio\u001b[0m \u001b[1;33m=\u001b[0m \u001b[0marg\u001b[0m\u001b[1;33m\u001b[0m\u001b[0m\n",
      "\u001b[1;31mZeroDivisionError\u001b[0m: division by zero"
     ]
    }
   ],
   "source": [
    "wb_4_mfg.corr()\n",
    "\n",
    "plt.matshow(wb_4_mfg.corr())\n",
    "plt.xticks(range(len(wb_4_mfg.columns)), wb_4_mfg.columns)\n",
    "plt.yticks(range(len(wb_4_mfg.columns)), wb_4_mfg.columns)\n",
    "plt.colorbar()\n",
    "plt.show()"
   ]
  },
  {
   "cell_type": "code",
   "execution_count": 49,
   "metadata": {},
   "outputs": [],
   "source": [
    "wb_4_hi_tech = pd.read_csv('D:\\\\Boris\\\\Manufacturing Juggernaut\\\\World Bank, high-tech percentage of mfg export, 2000-2012.csv')"
   ]
  },
  {
   "cell_type": "code",
   "execution_count": 50,
   "metadata": {},
   "outputs": [],
   "source": [
    "wb_4_hi_tech = wb_4_hi_tech.transpose()\n",
    "\n",
    "wb_4_hi_tech.columns = ['CHN','DEU','JPN','USA']\n",
    "\n",
    "wb_4_hi_tech.drop(index='Country Code', inplace=True)\n"
   ]
  },
  {
   "cell_type": "markdown",
   "metadata": {},
   "source": [
    "## 2. The World Bank 2000-2012 data on high-technology % of manufactured exports: Germany, Japan, China, the U.S.\n",
    "https://data.worldbank.org/indicator/NV.IND.MANF.CD?end=2012&locations=CN-DE-JP-US&name_desc=true&start=2000"
   ]
  },
  {
   "cell_type": "code",
   "execution_count": 51,
   "metadata": {},
   "outputs": [
    {
     "data": {
      "text/plain": [
       "<matplotlib.axes._subplots.AxesSubplot at 0xa272be0>"
      ]
     },
     "execution_count": 51,
     "metadata": {},
     "output_type": "execute_result"
    },
    {
     "data": {
      "image/png": "[encoded data removed]",
      "text/plain": [
       "<Figure size 432x288 with 1 Axes>"
      ]
     },
     "metadata": {},
     "output_type": "display_data"
    }
   ],
   "source": [
    "wb_4_hi_tech.plot.line()"
   ]
  },
  {
   "cell_type": "markdown",
   "metadata": {},
   "source": [
    "### Notes: The about chart demonstrates China's attempt at upgrading its manufacturing capability from low-cost, labor intensive contract work to the high value-added, high-tech end of the specturm."
   ]
  },
  {
   "cell_type": "code",
   "execution_count": 52,
   "metadata": {},
   "outputs": [],
   "source": [
    "oecd_svce = pd.read_csv('D:\\\\Boris\\\\Manufacturing Juggernaut\\\\OECD services exports.csv')"
   ]
  },
  {
   "cell_type": "code",
   "execution_count": null,
   "metadata": {},
   "outputs": [],
   "source": [
    "oecd_svce.head()"
   ]
  },
  {
   "cell_type": "code",
   "execution_count": 53,
   "metadata": {
    "collapsed": true
   },
   "outputs": [
    {
     "data": {
      "text/html": [
       "<div>\n",
       "<style scoped>\n",
       "    .dataframe tbody tr th:only-of-type {\n",
       "        vertical-align: middle;\n",
       "    }\n",
       "\n",
       "    .dataframe tbody tr th {\n",
       "        vertical-align: top;\n",
       "    }\n",
       "\n",
       "    .dataframe thead th {\n",
       "        text-align: right;\n",
       "    }\n",
       "</style>\n",
       "<table border=\"1\" class=\"dataframe\">\n",
       "  <thead>\n",
       "    <tr style=\"text-align: right;\">\n",
       "      <th></th>\n",
       "      <th>LOCATION</th>\n",
       "      <th>TIME</th>\n",
       "      <th>Value</th>\n",
       "    </tr>\n",
       "  </thead>\n",
       "  <tbody>\n",
       "    <tr>\n",
       "      <th>0</th>\n",
       "      <td>DEU</td>\n",
       "      <td>2000</td>\n",
       "      <td>81471.13</td>\n",
       "    </tr>\n",
       "    <tr>\n",
       "      <th>1</th>\n",
       "      <td>DEU</td>\n",
       "      <td>2001</td>\n",
       "      <td>82936.97</td>\n",
       "    </tr>\n",
       "    <tr>\n",
       "      <th>2</th>\n",
       "      <td>DEU</td>\n",
       "      <td>2002</td>\n",
       "      <td>98556.63</td>\n",
       "    </tr>\n",
       "    <tr>\n",
       "      <th>3</th>\n",
       "      <td>DEU</td>\n",
       "      <td>2003</td>\n",
       "      <td>119723.70</td>\n",
       "    </tr>\n",
       "    <tr>\n",
       "      <th>4</th>\n",
       "      <td>DEU</td>\n",
       "      <td>2004</td>\n",
       "      <td>151633.40</td>\n",
       "    </tr>\n",
       "  </tbody>\n",
       "</table>\n",
       "</div>"
      ],
      "text/plain": [
       "  LOCATION  TIME      Value\n",
       "0      DEU  2000   81471.13\n",
       "1      DEU  2001   82936.97\n",
       "2      DEU  2002   98556.63\n",
       "3      DEU  2003  119723.70\n",
       "4      DEU  2004  151633.40"
      ]
     },
     "execution_count": 53,
     "metadata": {},
     "output_type": "execute_result"
    }
   ],
   "source": [
    "big4 = ['DEU','JPN','USA','CHN']\n",
    "oecd_4_svce = oecd_svce.loc[oecd_svce['LOCATION'].isin(big4)]\n",
    "oecd_4_svce.head()"
   ]
  },
  {
   "cell_type": "code",
   "execution_count": 54,
   "metadata": {
    "collapsed": true
   },
   "outputs": [
    {
     "name": "stderr",
     "output_type": "stream",
     "text": [
      "C:\\Users\\thinkpad\\Anaconda3\\lib\\site-packages\\pandas\\core\\generic.py:3812: PerformanceWarning: dropping on a non-lexsorted multi-index without a level parameter may impact performance.\n",
      "  new_axis = axis.drop(labels, errors=errors)\n"
     ]
    },
    {
     "data": {
      "text/html": [
       "<div>\n",
       "<style scoped>\n",
       "    .dataframe tbody tr th:only-of-type {\n",
       "        vertical-align: middle;\n",
       "    }\n",
       "\n",
       "    .dataframe tbody tr th {\n",
       "        vertical-align: top;\n",
       "    }\n",
       "\n",
       "    .dataframe thead tr th {\n",
       "        text-align: left;\n",
       "    }\n",
       "\n",
       "    .dataframe thead tr:last-of-type th {\n",
       "        text-align: right;\n",
       "    }\n",
       "</style>\n",
       "<table border=\"1\" class=\"dataframe\">\n",
       "  <thead>\n",
       "    <tr>\n",
       "      <th></th>\n",
       "      <th></th>\n",
       "      <th colspan=\"4\" halign=\"left\">Value</th>\n",
       "    </tr>\n",
       "    <tr>\n",
       "      <th></th>\n",
       "      <th>LOCATION</th>\n",
       "      <th>CHN</th>\n",
       "      <th>DEU</th>\n",
       "      <th>JPN</th>\n",
       "      <th>USA</th>\n",
       "    </tr>\n",
       "    <tr>\n",
       "      <th></th>\n",
       "      <th>LOCATION</th>\n",
       "      <th></th>\n",
       "      <th></th>\n",
       "      <th></th>\n",
       "      <th></th>\n",
       "    </tr>\n",
       "  </thead>\n",
       "  <tbody>\n",
       "    <tr>\n",
       "      <th rowspan=\"4\" valign=\"top\">Value</th>\n",
       "      <th>CHN</th>\n",
       "      <td>1.000000</td>\n",
       "      <td>0.974247</td>\n",
       "      <td>0.965834</td>\n",
       "      <td>0.995240</td>\n",
       "    </tr>\n",
       "    <tr>\n",
       "      <th>DEU</th>\n",
       "      <td>0.974247</td>\n",
       "      <td>1.000000</td>\n",
       "      <td>0.990395</td>\n",
       "      <td>0.964650</td>\n",
       "    </tr>\n",
       "    <tr>\n",
       "      <th>JPN</th>\n",
       "      <td>0.965834</td>\n",
       "      <td>0.990395</td>\n",
       "      <td>1.000000</td>\n",
       "      <td>0.953624</td>\n",
       "    </tr>\n",
       "    <tr>\n",
       "      <th>USA</th>\n",
       "      <td>0.995240</td>\n",
       "      <td>0.964650</td>\n",
       "      <td>0.953624</td>\n",
       "      <td>1.000000</td>\n",
       "    </tr>\n",
       "  </tbody>\n",
       "</table>\n",
       "</div>"
      ],
      "text/plain": [
       "                   Value                              \n",
       "LOCATION             CHN       DEU       JPN       USA\n",
       "      LOCATION                                        \n",
       "Value CHN       1.000000  0.974247  0.965834  0.995240\n",
       "      DEU       0.974247  1.000000  0.990395  0.964650\n",
       "      JPN       0.965834  0.990395  1.000000  0.953624\n",
       "      USA       0.995240  0.964650  0.953624  1.000000"
      ]
     },
     "execution_count": 54,
     "metadata": {},
     "output_type": "execute_result"
    }
   ],
   "source": [
    "oecd_4_svce_P = oecd_4_svce.pivot_table(index='TIME', columns='LOCATION').reset_index()\n",
    "\n",
    "oecd_4_svce_P.drop(['TIME'], axis=1, inplace=True)\n",
    "\n",
    "oecd_4_svce_P.corr()"
   ]
  },
  {
   "cell_type": "markdown",
   "metadata": {},
   "source": [
    "## 3. OECD 2000-2012 data on the annual export of services by the U.S., Germany, Japan, and China \n",
    "\n",
    "https://data.oecd.org/ict/ict-goods-exports.htm#indicator-chart  (search key words: trade in services)"
   ]
  },
  {
   "cell_type": "code",
   "execution_count": 55,
   "metadata": {
    "scrolled": true
   },
   "outputs": [
    {
     "data": {
      "text/plain": [
       "<matplotlib.axes._subplots.AxesSubplot at 0xa2f7898>"
      ]
     },
     "execution_count": 55,
     "metadata": {},
     "output_type": "execute_result"
    },
    {
     "data": {
      "image/png": "[encoded data removed]",
      "text/plain": [
       "<Figure size 432x288 with 1 Axes>"
      ]
     },
     "metadata": {},
     "output_type": "display_data"
    }
   ],
   "source": [
    "oecd_4_svce.pivot_table(index='TIME', columns='LOCATION').plot.line()"
   ]
  },
  {
   "cell_type": "markdown",
   "metadata": {},
   "source": [
    "### Notes: Data scientists in an increasingly \"information economy,\" as well as Wall Street bankers and lawyers, Hollywood movie producers may find the above chart more reassuring.  The U.S. remains by far the world's leader in exporting services.  In 2012, its services export was more than Germany, Japan, and China's combined.  "
   ]
  },
  {
   "cell_type": "code",
   "execution_count": 32,
   "metadata": {},
   "outputs": [],
   "source": [
    "wb_4_exp_gdp = pd.read_csv('D:\\\\Boris\\\\Manufacturing Juggernaut\\\\World Bank, Big 4, exports of goods and services as percentage of GDP, 2000-2012.csv')"
   ]
  },
  {
   "cell_type": "code",
   "execution_count": 33,
   "metadata": {},
   "outputs": [
    {
     "data": {
      "text/html": [
       "<div>\n",
       "<style scoped>\n",
       "    .dataframe tbody tr th:only-of-type {\n",
       "        vertical-align: middle;\n",
       "    }\n",
       "\n",
       "    .dataframe tbody tr th {\n",
       "        vertical-align: top;\n",
       "    }\n",
       "\n",
       "    .dataframe thead th {\n",
       "        text-align: right;\n",
       "    }\n",
       "</style>\n",
       "<table border=\"1\" class=\"dataframe\">\n",
       "  <thead>\n",
       "    <tr style=\"text-align: right;\">\n",
       "      <th></th>\n",
       "      <th>Country Code</th>\n",
       "      <th>2000</th>\n",
       "      <th>2001</th>\n",
       "      <th>2002</th>\n",
       "      <th>2003</th>\n",
       "      <th>2004</th>\n",
       "      <th>2005</th>\n",
       "      <th>2006</th>\n",
       "      <th>2007</th>\n",
       "      <th>2008</th>\n",
       "      <th>2009</th>\n",
       "      <th>2010</th>\n",
       "      <th>2011</th>\n",
       "      <th>2012</th>\n",
       "    </tr>\n",
       "  </thead>\n",
       "  <tbody>\n",
       "    <tr>\n",
       "      <th>0</th>\n",
       "      <td>CHN</td>\n",
       "      <td>20.893445</td>\n",
       "      <td>20.312146</td>\n",
       "      <td>22.644746</td>\n",
       "      <td>26.980757</td>\n",
       "      <td>31.061338</td>\n",
       "      <td>33.829858</td>\n",
       "      <td>36.035026</td>\n",
       "      <td>35.388179</td>\n",
       "      <td>32.519573</td>\n",
       "      <td>24.456651</td>\n",
       "      <td>26.267414</td>\n",
       "      <td>26.494323</td>\n",
       "      <td>25.408196</td>\n",
       "    </tr>\n",
       "    <tr>\n",
       "      <th>1</th>\n",
       "      <td>DEU</td>\n",
       "      <td>30.829538</td>\n",
       "      <td>31.870679</td>\n",
       "      <td>32.574040</td>\n",
       "      <td>32.591483</td>\n",
       "      <td>35.448424</td>\n",
       "      <td>37.740454</td>\n",
       "      <td>41.190348</td>\n",
       "      <td>43.009912</td>\n",
       "      <td>43.459875</td>\n",
       "      <td>37.802201</td>\n",
       "      <td>42.250374</td>\n",
       "      <td>44.818173</td>\n",
       "      <td>45.982540</td>\n",
       "    </tr>\n",
       "    <tr>\n",
       "      <th>2</th>\n",
       "      <td>JPN</td>\n",
       "      <td>10.624485</td>\n",
       "      <td>10.229099</td>\n",
       "      <td>11.018221</td>\n",
       "      <td>11.639293</td>\n",
       "      <td>12.972032</td>\n",
       "      <td>14.012441</td>\n",
       "      <td>15.872902</td>\n",
       "      <td>17.493317</td>\n",
       "      <td>17.424038</td>\n",
       "      <td>12.520914</td>\n",
       "      <td>15.036757</td>\n",
       "      <td>14.924996</td>\n",
       "      <td>14.544753</td>\n",
       "    </tr>\n",
       "    <tr>\n",
       "      <th>3</th>\n",
       "      <td>USA</td>\n",
       "      <td>10.664643</td>\n",
       "      <td>9.666071</td>\n",
       "      <td>9.132386</td>\n",
       "      <td>9.037519</td>\n",
       "      <td>9.625368</td>\n",
       "      <td>9.996398</td>\n",
       "      <td>10.654792</td>\n",
       "      <td>11.497907</td>\n",
       "      <td>12.514398</td>\n",
       "      <td>11.011656</td>\n",
       "      <td>12.315059</td>\n",
       "      <td>13.530538</td>\n",
       "      <td>13.528919</td>\n",
       "    </tr>\n",
       "  </tbody>\n",
       "</table>\n",
       "</div>"
      ],
      "text/plain": [
       "  Country Code       2000       2001       2002       2003       2004  \\\n",
       "0          CHN  20.893445  20.312146  22.644746  26.980757  31.061338   \n",
       "1          DEU  30.829538  31.870679  32.574040  32.591483  35.448424   \n",
       "2          JPN  10.624485  10.229099  11.018221  11.639293  12.972032   \n",
       "3          USA  10.664643   9.666071   9.132386   9.037519   9.625368   \n",
       "\n",
       "        2005       2006       2007       2008       2009       2010  \\\n",
       "0  33.829858  36.035026  35.388179  32.519573  24.456651  26.267414   \n",
       "1  37.740454  41.190348  43.009912  43.459875  37.802201  42.250374   \n",
       "2  14.012441  15.872902  17.493317  17.424038  12.520914  15.036757   \n",
       "3   9.996398  10.654792  11.497907  12.514398  11.011656  12.315059   \n",
       "\n",
       "        2011       2012  \n",
       "0  26.494323  25.408196  \n",
       "1  44.818173  45.982540  \n",
       "2  14.924996  14.544753  \n",
       "3  13.530538  13.528919  "
      ]
     },
     "execution_count": 33,
     "metadata": {},
     "output_type": "execute_result"
    }
   ],
   "source": [
    "wb_4_exp_gdp"
   ]
  },
  {
   "cell_type": "code",
   "execution_count": 34,
   "metadata": {
    "collapsed": true
   },
   "outputs": [
    {
     "data": {
      "text/html": [
       "<div>\n",
       "<style scoped>\n",
       "    .dataframe tbody tr th:only-of-type {\n",
       "        vertical-align: middle;\n",
       "    }\n",
       "\n",
       "    .dataframe tbody tr th {\n",
       "        vertical-align: top;\n",
       "    }\n",
       "\n",
       "    .dataframe thead th {\n",
       "        text-align: right;\n",
       "    }\n",
       "</style>\n",
       "<table border=\"1\" class=\"dataframe\">\n",
       "  <thead>\n",
       "    <tr style=\"text-align: right;\">\n",
       "      <th></th>\n",
       "      <th>CHN</th>\n",
       "      <th>DEU</th>\n",
       "      <th>JPN</th>\n",
       "      <th>USA</th>\n",
       "    </tr>\n",
       "  </thead>\n",
       "  <tbody>\n",
       "    <tr>\n",
       "      <th>2000</th>\n",
       "      <td>20.893445</td>\n",
       "      <td>30.829538</td>\n",
       "      <td>10.624485</td>\n",
       "      <td>10.664643</td>\n",
       "    </tr>\n",
       "    <tr>\n",
       "      <th>2001</th>\n",
       "      <td>20.312146</td>\n",
       "      <td>31.870679</td>\n",
       "      <td>10.229099</td>\n",
       "      <td>9.666071</td>\n",
       "    </tr>\n",
       "    <tr>\n",
       "      <th>2002</th>\n",
       "      <td>22.644746</td>\n",
       "      <td>32.574040</td>\n",
       "      <td>11.018221</td>\n",
       "      <td>9.132386</td>\n",
       "    </tr>\n",
       "    <tr>\n",
       "      <th>2003</th>\n",
       "      <td>26.980757</td>\n",
       "      <td>32.591483</td>\n",
       "      <td>11.639293</td>\n",
       "      <td>9.037519</td>\n",
       "    </tr>\n",
       "    <tr>\n",
       "      <th>2004</th>\n",
       "      <td>31.061338</td>\n",
       "      <td>35.448424</td>\n",
       "      <td>12.972032</td>\n",
       "      <td>9.625368</td>\n",
       "    </tr>\n",
       "    <tr>\n",
       "      <th>2005</th>\n",
       "      <td>33.829858</td>\n",
       "      <td>37.740454</td>\n",
       "      <td>14.012441</td>\n",
       "      <td>9.996398</td>\n",
       "    </tr>\n",
       "    <tr>\n",
       "      <th>2006</th>\n",
       "      <td>36.035026</td>\n",
       "      <td>41.190348</td>\n",
       "      <td>15.872902</td>\n",
       "      <td>10.654792</td>\n",
       "    </tr>\n",
       "    <tr>\n",
       "      <th>2007</th>\n",
       "      <td>35.388179</td>\n",
       "      <td>43.009912</td>\n",
       "      <td>17.493317</td>\n",
       "      <td>11.497907</td>\n",
       "    </tr>\n",
       "    <tr>\n",
       "      <th>2008</th>\n",
       "      <td>32.519573</td>\n",
       "      <td>43.459875</td>\n",
       "      <td>17.424038</td>\n",
       "      <td>12.514398</td>\n",
       "    </tr>\n",
       "    <tr>\n",
       "      <th>2009</th>\n",
       "      <td>24.456651</td>\n",
       "      <td>37.802201</td>\n",
       "      <td>12.520914</td>\n",
       "      <td>11.011656</td>\n",
       "    </tr>\n",
       "    <tr>\n",
       "      <th>2010</th>\n",
       "      <td>26.267414</td>\n",
       "      <td>42.250374</td>\n",
       "      <td>15.036757</td>\n",
       "      <td>12.315059</td>\n",
       "    </tr>\n",
       "    <tr>\n",
       "      <th>2011</th>\n",
       "      <td>26.494323</td>\n",
       "      <td>44.818173</td>\n",
       "      <td>14.924996</td>\n",
       "      <td>13.530538</td>\n",
       "    </tr>\n",
       "    <tr>\n",
       "      <th>2012</th>\n",
       "      <td>25.408196</td>\n",
       "      <td>45.982540</td>\n",
       "      <td>14.544753</td>\n",
       "      <td>13.528919</td>\n",
       "    </tr>\n",
       "  </tbody>\n",
       "</table>\n",
       "</div>"
      ],
      "text/plain": [
       "            CHN        DEU        JPN        USA\n",
       "2000  20.893445  30.829538  10.624485  10.664643\n",
       "2001  20.312146  31.870679  10.229099   9.666071\n",
       "2002  22.644746  32.574040  11.018221   9.132386\n",
       "2003  26.980757  32.591483  11.639293   9.037519\n",
       "2004  31.061338  35.448424  12.972032   9.625368\n",
       "2005  33.829858  37.740454  14.012441   9.996398\n",
       "2006  36.035026  41.190348  15.872902  10.654792\n",
       "2007  35.388179  43.009912  17.493317  11.497907\n",
       "2008  32.519573  43.459875  17.424038  12.514398\n",
       "2009  24.456651  37.802201  12.520914  11.011656\n",
       "2010  26.267414  42.250374  15.036757  12.315059\n",
       "2011  26.494323  44.818173  14.924996  13.530538\n",
       "2012  25.408196  45.982540  14.544753  13.528919"
      ]
     },
     "execution_count": 34,
     "metadata": {},
     "output_type": "execute_result"
    }
   ],
   "source": [
    "wb_4_exp_gdp_t = wb_4_exp_gdp.iloc[:,1:].T\n",
    "wb_4_exp_gdp_t.columns = ['CHN','DEU','JPN','USA']\n",
    "wb_4_exp_gdp_t"
   ]
  },
  {
   "cell_type": "markdown",
   "metadata": {},
   "source": [
    "## 4. The World Bank 2000-2012 data on the combined export of goods and services as percentage of GDP: Germany, Japan, China, the U.S.\n",
    "\n",
    "https://data.worldbank.org/indicator/NE.EXP.GNFS.ZS?end=2012&name_desc=true&start=2000"
   ]
  },
  {
   "cell_type": "code",
   "execution_count": 35,
   "metadata": {
    "scrolled": true
   },
   "outputs": [
    {
     "data": {
      "text/plain": [
       "<matplotlib.axes._subplots.AxesSubplot at 0x67035f8>"
      ]
     },
     "execution_count": 35,
     "metadata": {},
     "output_type": "execute_result"
    },
    {
     "data": {
      "image/png": "[encoded data removed]",
      "text/plain": [
       "<Figure size 432x288 with 1 Axes>"
      ]
     },
     "metadata": {},
     "output_type": "display_data"
    }
   ],
   "source": [
    "wb_4_exp_gdp_t.plot.line()"
   ]
  },
  {
   "cell_type": "markdown",
   "metadata": {},
   "source": [
    "### Notes: This chart may serve as a reality check to trade hawks in the Trump Administration.  Its hardball negotiation tactics, and unilateral raising of tariff on Chinese import, may not put enough dent on the Chinese GDP growth to force the desired concession.  Combined export of goods and services contributed to around 23% of China's GDP in 2012 (the latest figure, according to press reports, is 19%), indicating that the Chinese economy has grown to a mature stage, with a huge domestic market, rising size of the middle class, and enormous aggregate consumer spending that can theoretically generate enough demand for further GDP growth.  "
   ]
  },
  {
   "cell_type": "code",
   "execution_count": 30,
   "metadata": {},
   "outputs": [
    {
     "data": {
      "image/png": "[encoded data removed]",
      "text/plain": [
       "<Figure size 288x288 with 2 Axes>"
      ]
     },
     "metadata": {},
     "output_type": "display_data"
    }
   ],
   "source": [
    "wb_4_exp_gdp_t.corr()\n",
    "\n",
    "plt.matshow(wb_4_exp_gdp_t.corr())\n",
    "plt.xticks(range(len(wb_4_exp_gdp_t.columns)), wb_4_exp_gdp_t.columns)\n",
    "plt.yticks(range(len(wb_4_exp_gdp_t.columns)), wb_4_exp_gdp_t.columns)\n",
    "plt.colorbar()\n",
    "plt.show()"
   ]
  },
  {
   "cell_type": "markdown",
   "metadata": {},
   "source": [
    "### Notes: The above chart is based on the same World Bank \"export as percentage of GDP\" figures for each of the 4 countries under study.  The Chinese and the U.S. numbers are the least correlated.  "
   ]
  },
  {
   "cell_type": "code",
   "execution_count": null,
   "metadata": {},
   "outputs": [],
   "source": []
  }
 ],
 "metadata": {
  "kernelspec": {
   "display_name": "Python 3",
   "language": "python",
   "name": "python3"
  },
  "language_info": {
   "codemirror_mode": {
    "name": "ipython",
    "version": 3
   },
   "file_extension": ".py",
   "mimetype": "text/x-python",
   "name": "python",
   "nbconvert_exporter": "python",
   "pygments_lexer": "ipython3",
   "version": "3.6.5"
  }
 },
 "nbformat": 4,
 "nbformat_minor": 2
}
